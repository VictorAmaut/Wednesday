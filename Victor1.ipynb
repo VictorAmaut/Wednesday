{
 "cells": [
  {
   "cell_type": "markdown",
   "id": "9ba8f94a-a7b0-4e5e-92b3-f9b6168d0195",
   "metadata": {},
   "source": [
    "# Data Science Tools and Ecosystem"
   ]
  },
  {
   "cell_type": "markdown",
   "id": "0cbc1437-a045-4708-b580-fbdd78161108",
   "metadata": {},
   "source": [
    "In this notebook, Data Science Tools and Ecosystem are summarized."
   ]
  },
  {
   "cell_type": "markdown",
   "id": "f09453f6-2230-4b2d-a187-803eba8951b6",
   "metadata": {},
   "source": [
    "Some of the popular languages that Data Scientists use are:\n",
    "\n",
    "**Objectives:**\n",
    "\n",
    "• List popular languages for Data Science\n",
    "• Some of the commonly used libraries used by Data Scientists include:\n",
    "• Some of the commonly used libraries used by Data Scientists include"
   ]
  },
  {
   "cell_type": "markdown",
   "id": "9cdcff66-c5e6-4618-92d1-7c3fce52e5a5",
   "metadata": {},
   "source": [
    "Some of the popular languages that Data Scientists use are:\n",
    "\n"
   ]
  },
  {
   "cell_type": "markdown",
   "id": "500de87b-29f5-432a-b4ae-99693dec9743",
   "metadata": {},
   "source": [
    "1. Python\n",
    "2. Java\n",
    "3. R"
   ]
  },
  {
   "cell_type": "markdown",
   "id": "93375f2a-0805-44c5-8697-6d7c65ac21ca",
   "metadata": {},
   "source": [
    "Some of the commonly used libraries used by Data Scientists include:"
   ]
  },
  {
   "cell_type": "markdown",
   "id": "1368ad65-c04a-40e6-9615-237855d937af",
   "metadata": {},
   "source": [
    "1. Seaborn\n",
    "2. Pandas\n",
    "3. TensorFlow"
   ]
  },
  {
   "cell_type": "markdown",
   "id": "5dfa110c-61ed-42a6-af40-c925fa24d649",
   "metadata": {},
   "source": [
    "Data Science Tools"
   ]
  },
  {
   "cell_type": "markdown",
   "id": "296f4591-4418-4b78-8c66-caea9b7d8e7d",
   "metadata": {},
   "source": [
    "1. Jupyter Notebook\n",
    "2. RStudio\n",
    "3. Visual Studio Code"
   ]
  },
  {
   "cell_type": "markdown",
   "id": "f645aa47-ad88-40ad-b6f1-36ebcb7bd681",
   "metadata": {},
   "source": [
    "### Below are a few examples of evaluating arithmetic expressions in Python"
   ]
  },
  {
   "cell_type": "code",
   "execution_count": 3,
   "id": "632ef7d5-f401-447c-9260-1e59da48cef0",
   "metadata": {},
   "outputs": [],
   "source": [
    "# This a simple arithmetic expression to mutiply then add integers"
   ]
  },
  {
   "cell_type": "code",
   "execution_count": 4,
   "id": "632fb39c-6b95-4544-8c69-db932a8249ae",
   "metadata": {},
   "outputs": [
    {
     "data": {
      "text/plain": [
       "17"
      ]
     },
     "execution_count": 4,
     "metadata": {},
     "output_type": "execute_result"
    }
   ],
   "source": [
    "(3*4)+5"
   ]
  },
  {
   "cell_type": "code",
   "execution_count": 5,
   "id": "d49d61f4-a78e-42fe-af91-1746abe83bd1",
   "metadata": {},
   "outputs": [],
   "source": [
    "# This will convert 200 minutes to hours by diving by 60"
   ]
  },
  {
   "cell_type": "code",
   "execution_count": 6,
   "id": "85335546-d6b7-4a15-87ae-eac9100b1874",
   "metadata": {},
   "outputs": [
    {
     "data": {
      "text/plain": [
       "3.3333333333333335"
      ]
     },
     "execution_count": 6,
     "metadata": {},
     "output_type": "execute_result"
    }
   ],
   "source": [
    "(200/60)"
   ]
  },
  {
   "cell_type": "markdown",
   "id": "63381269-f3d4-4416-902e-86dcecb311d6",
   "metadata": {},
   "source": [
    "## Author\n",
    "   Victor Amaut"
   ]
  }
 ],
 "metadata": {
  "kernelspec": {
   "display_name": "Python 3 (ipykernel)",
   "language": "python",
   "name": "python3"
  },
  "language_info": {
   "codemirror_mode": {
    "name": "ipython",
    "version": 3
   },
   "file_extension": ".py",
   "mimetype": "text/x-python",
   "name": "python",
   "nbconvert_exporter": "python",
   "pygments_lexer": "ipython3",
   "version": "3.12.8"
  }
 },
 "nbformat": 4,
 "nbformat_minor": 5
}
